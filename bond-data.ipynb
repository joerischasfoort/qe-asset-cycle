{
 "cells": [
  {
   "cell_type": "code",
   "execution_count": 35,
   "metadata": {},
   "outputs": [],
   "source": [
    "%matplotlib inline\n",
    "import pandas_datareader.data as web    # pandas 0.19.x and later\n",
    "import datetime\n",
    "import pandas as pd\n",
    "import numpy as np\n",
    "import math\n",
    "import scipy.stats as stats"
   ]
  },
  {
   "cell_type": "code",
   "execution_count": 27,
   "metadata": {},
   "outputs": [],
   "source": [
    "def confidence_interval(data, av):\n",
    "    sample_stdev = np.std(data)\n",
    "    sigma = sample_stdev/math.sqrt(len(data))\n",
    "    return stats.t.interval(alpha = 0.95, df= 24, loc=av, scale=sigma) "
   ]
  },
  {
   "cell_type": "markdown",
   "metadata": {},
   "source": [
    "# data"
   ]
  },
  {
   "cell_type": "code",
   "execution_count": 56,
   "metadata": {},
   "outputs": [],
   "source": [
    "start = datetime.datetime(2010, 4, 17)\n",
    "end = datetime.datetime(2018, 1, 31)"
   ]
  },
  {
   "cell_type": "code",
   "execution_count": 57,
   "metadata": {},
   "outputs": [],
   "source": [
    "bond_index_tickers = [\"BAMLCC0A0CMTRIV\", \"BAMLCC0A1AAATRIV\", \"BAMLCC0A2AATRIV\", \"BAMLCC0A3ATRIV\", \n",
    "                      \"BAMLCC0A4BBBTRIV\", \"BAMLCC1A013YTRIV\", \"BAMLCC2A035YTRIV\", \"BAMLCC3A057YTRIV\"]"
   ]
  },
  {
   "cell_type": "code",
   "execution_count": 72,
   "metadata": {},
   "outputs": [
    {
     "data": {
      "text/plain": [
       "2058"
      ]
     },
     "execution_count": 72,
     "metadata": {},
     "output_type": "execute_result"
    }
   ],
   "source": [
    "len(bondindices)"
   ]
  },
  {
   "cell_type": "code",
   "execution_count": 58,
   "metadata": {},
   "outputs": [],
   "source": [
    "bondindices = web.DataReader(bond_index_tickers, \"fred\", start, end)"
   ]
  },
  {
   "cell_type": "code",
   "execution_count": 59,
   "metadata": {},
   "outputs": [],
   "source": [
    "autocors = pd.DataFrame()\n",
    "for col in bondindices:\n",
    "    autocors[col] = [bondindices[col].pct_change().autocorr(lag=lag) for lag in range(25)]"
   ]
  },
  {
   "cell_type": "markdown",
   "metadata": {},
   "source": [
    "## Confidence intervals for:\n",
    "1. autocors mean\n",
    "2. autocors abs mean\n",
    "3. kurtosis "
   ]
  },
  {
   "cell_type": "code",
   "execution_count": 69,
   "metadata": {},
   "outputs": [],
   "source": [
    "lower_k, upper_k = confidence_interval(bondindices.pct_change().kurtosis(), bondindices.pct_change().kurtosis().mean())"
   ]
  },
  {
   "cell_type": "code",
   "execution_count": 70,
   "metadata": {},
   "outputs": [
    {
     "name": "stdout",
     "output_type": "stream",
     "text": [
      "Kurtosis conf intervals =  1.364835425987627 2.2127119289581882\n"
     ]
    }
   ],
   "source": [
    "print('Kurtosis conf intervals = ', lower_k, upper_k)"
   ]
  },
  {
   "cell_type": "code",
   "execution_count": 68,
   "metadata": {},
   "outputs": [],
   "source": [
    "autocors_lower = []\n",
    "autocors_upper = []\n",
    "\n",
    "autocors_abs_lower = []\n",
    "autocors_abs_upper = []\n",
    "\n",
    "kurt_lower = []\n",
    "kurt_upper = []\n",
    "for i in range(len(autocors)):\n",
    "    lower, upper = confidence_interval(autocors.iloc[i], autocors.iloc[i].mean())\n",
    "    autocors_lower.append(lower)\n",
    "    autocors_upper.append(upper)\n",
    "    \n",
    "    abs_lower, abs_upper = confidence_interval(autocors.abs().iloc[i], autocors.abs().iloc[i].mean())\n",
    "    autocors_abs_lower.append(abs_lower)\n",
    "    autocors_abs_upper.append(abs_upper)\n"
   ]
  },
  {
   "cell_type": "code",
   "execution_count": 64,
   "metadata": {},
   "outputs": [
    {
     "data": {
      "text/plain": [
       "<matplotlib.axes._subplots.AxesSubplot at 0x1cc82630>"
      ]
     },
     "execution_count": 64,
     "metadata": {},
     "output_type": "execute_result"
    },
    {
     "data": {
      "image/png": "[encoded data removed]",
      "text/plain": [
       "<Figure size 432x288 with 1 Axes>"
      ]
     },
     "metadata": {
      "needs_background": "light"
     },
     "output_type": "display_data"
    }
   ],
   "source": [
    "pd.Series(autocors_lower).plot()\n",
    "pd.Series(autocors_upper).plot()"
   ]
  },
  {
   "cell_type": "code",
   "execution_count": 65,
   "metadata": {},
   "outputs": [
    {
     "data": {
      "text/plain": [
       "<matplotlib.axes._subplots.AxesSubplot at 0x1dcffa20>"
      ]
     },
     "execution_count": 65,
     "metadata": {},
     "output_type": "execute_result"
    },
    {
     "data": {
      "image/png": "[encoded data removed]",
      "text/plain": [
       "<Figure size 432x288 with 1 Axes>"
      ]
     },
     "metadata": {
      "needs_background": "light"
     },
     "output_type": "display_data"
    }
   ],
   "source": [
    "pd.Series(autocors_abs_lower).plot()\n",
    "pd.Series(autocors_abs_upper).plot()"
   ]
  },
  {
   "cell_type": "code",
   "execution_count": 28,
   "metadata": {},
   "outputs": [
    {
     "data": {
      "text/plain": [
       "0.040293593417437726"
      ]
     },
     "execution_count": 28,
     "metadata": {},
     "output_type": "execute_result"
    }
   ],
   "source": [
    "autocors.mean().mean()"
   ]
  },
  {
   "cell_type": "code",
   "execution_count": 29,
   "metadata": {},
   "outputs": [
    {
     "data": {
      "text/plain": [
       "0.06537605016329542"
      ]
     },
     "execution_count": 29,
     "metadata": {},
     "output_type": "execute_result"
    }
   ],
   "source": [
    "autocors.abs().mean().mean()"
   ]
  }
 ],
 "metadata": {
  "kernelspec": {
   "display_name": "Python 3",
   "language": "python",
   "name": "python3"
  },
  "language_info": {
   "codemirror_mode": {
    "name": "ipython",
    "version": 3
   },
   "file_extension": ".py",
   "mimetype": "text/x-python",
   "name": "python",
   "nbconvert_exporter": "python",
   "pygments_lexer": "ipython3",
   "version": "3.7.2"
  }
 },
 "nbformat": 4,
 "nbformat_minor": 2
}
