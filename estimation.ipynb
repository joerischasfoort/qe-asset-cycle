{
 "cells": [
  {
   "cell_type": "code",
   "execution_count": 43,
   "metadata": {},
   "outputs": [],
   "source": [
    "%matplotlib inline\n",
    "import numpy as np\n",
    "import pandas as pd\n",
    "import json\n",
    "import matplotlib.pyplot as plt\n",
    "from init_objects import *\n",
    "from functions.helpers import organise_data\n",
    "from qe_model import *\n",
    "from matplotlib import style\n",
    "from SALib.sample import latin\n",
    "import scipy.stats as stats\n",
    "from hurst import compute_Hc, random_walk\n",
    "import math\n",
    "import scipy.stats as st\n",
    "import datetime\n",
    "import pandas_datareader.data as web\n",
    "#from functions.find_bubbles import *\n",
    "import matplotlib.transforms as mtransforms"
   ]
  },
  {
   "cell_type": "code",
   "execution_count": 35,
   "metadata": {},
   "outputs": [],
   "source": [
    "def get_specific_bond_moments(full_series, bond_number):\n",
    "    \"\"\"Get a vector with the moments of a specific bootstrap\"\"\"\n",
    "    return np.array([full_series[i][bond_number] for i in range(len(full_series))])"
   ]
  },
  {
   "cell_type": "markdown",
   "metadata": {},
   "source": [
    "# Estimating uncertain parameters\n",
    "\n",
    "## Collect data"
   ]
  },
  {
   "cell_type": "code",
   "execution_count": 2,
   "metadata": {},
   "outputs": [],
   "source": [
    "bond_index_tickers = [\"BAMLCC0A0CMTRIV\", \"BAMLCC0A1AAATRIV\", \"BAMLCC0A2AATRIV\", \"BAMLCC0A3ATRIV\", \n",
    "                     \"BAMLCC0A4BBBTRIV\", \"BAMLCC1A013YTRIV\", \"BAMLCC2A035YTRIV\", \"BAMLCC3A057YTRIV\",\n",
    "                     \"BAMLCC4A0710YTRIV\", \"BAMLCC7A01015YTRIV\", \"BAMLCC8A015PYTRIV\", \"BAMLEM1BRRAAA2ACRPITRIV\", \n",
    "                      \"BAMLEM1RAAA2ALCRPIUSTRIV\", \n",
    "                      \"BAMLHE00EHYITRIV\", \"BAMLHYH0A0HYM2TRIV\", \"BAMLHYH0A1BBTRIV\",\"BAMLHYH0A2BTRIV\", \"BAMLHYH0A3CMTRIV\"]"
   ]
  },
  {
   "cell_type": "code",
   "execution_count": 3,
   "metadata": {},
   "outputs": [],
   "source": [
    "start = datetime.datetime(2010, 4, 17)\n",
    "end = datetime.datetime(2018, 1, 31)\n",
    "\n",
    "bondindices = web.DataReader(bond_index_tickers, \"fred\", start, end)\n",
    "\n",
    "autocors_emp = pd.DataFrame()\n",
    "for col in bondindices:\n",
    "    autocors_emp[col] = [bondindices[col].pct_change().autocorr(lag=lag) for lag in range(25)]"
   ]
  },
  {
   "cell_type": "markdown",
   "metadata": {},
   "source": [
    "## Determine initial / calibrated parameters"
   ]
  },
  {
   "cell_type": "code",
   "execution_count": 4,
   "metadata": {},
   "outputs": [],
   "source": [
    "params_nb = {\"fundamental_value\": 166, \n",
    "             \"trader_sample_size\": 22, \n",
    "             \"n_traders\": 1000,\n",
    "             \"ticks\": 600, \n",
    "             \"std_fundamental\": 0.053,\n",
    "             \"init_assets\": 740,\n",
    "             'spread_max': 0.004,\n",
    "             'money_multiplier': 2.2,\n",
    "             \"horizon\": 200,\n",
    "             \"std_noise\": 0.049, \n",
    "             \"w_random\": 0.08,\n",
    "             \"strat_share_chartists\": 0.08,\n",
    "             \"base_risk_aversion\": 1.051,\n",
    "             \"fundamentalist_horizon_multiplier\": 3.8,\n",
    "             \"trades_per_tick\": 1, \"mutation_intensity\": 0.0477,\n",
    "             \"average_learning_ability\": 0.05, \n",
    "             \"bond_mean_reversion\": 0.0, 'cb_pf_range': 0.05,\n",
    "             \"qe_perc_size\": 0.16, \"cb_size\": 0.02, \"qe_asset_index\": 0, \"qe_start\": 2, \"qe_end\":598}"
   ]
  },
  {
   "cell_type": "markdown",
   "metadata": {},
   "source": [
    "## Calculate empirical moments"
   ]
  },
  {
   "cell_type": "code",
   "execution_count": 15,
   "metadata": {},
   "outputs": [],
   "source": [
    "# calculate hursts\n",
    "hursts = []\n",
    "for col in bondindices:\n",
    "    H, c, data = compute_Hc(bondindices[col].dropna(), kind='price', simplified=True)\n",
    "    hursts.append(H)"
   ]
  },
  {
   "cell_type": "code",
   "execution_count": 18,
   "metadata": {},
   "outputs": [],
   "source": [
    "av_autocor = np.mean(autocors_emp.mean())\n",
    "av_autocor_abs = np.mean(autocors_emp.abs().mean())\n",
    "av_kurtosis = np.mean(bondindices.pct_change().kurtosis())\n",
    "av_hurst = np.mean(hursts)"
   ]
  },
  {
   "cell_type": "code",
   "execution_count": 19,
   "metadata": {},
   "outputs": [
    {
     "data": {
      "text/plain": [
       "array([0.05034916, 0.06925489, 4.16055312, 0.71581425])"
      ]
     },
     "execution_count": 19,
     "metadata": {},
     "output_type": "execute_result"
    }
   ],
   "source": [
    "emp_moments = np.array([\n",
    "    av_autocor,\n",
    "    av_autocor_abs,\n",
    "    av_kurtosis,\n",
    "    av_hurst\n",
    "    ])\n",
    "emp_moments"
   ]
  },
  {
   "cell_type": "markdown",
   "metadata": {},
   "source": [
    "To account for the fact that some of these moments might correlate over different Monte Carlo Simulations, the MSM seeks to obtain a variance covariance matrix of the moments. Since there are multiple bond indices, I use these to create a covariance matrix of empirical moments."
   ]
  },
  {
   "cell_type": "code",
   "execution_count": 32,
   "metadata": {},
   "outputs": [],
   "source": [
    "bond_autocors = list(autocors_emp.mean())\n",
    "bond_autocors_abs = list(autocors_emp.abs().mean())\n",
    "bond_kurts = list(bondindices.pct_change().kurtosis())"
   ]
  },
  {
   "cell_type": "code",
   "execution_count": 34,
   "metadata": {},
   "outputs": [],
   "source": [
    "all_bond_moments = [bond_autocors, bond_autocors_abs, bond_kurts, hursts]"
   ]
  },
  {
   "cell_type": "code",
   "execution_count": 33,
   "metadata": {},
   "outputs": [
    {
     "data": {
      "text/plain": [
       "array([0.05034916, 0.06925489, 4.16055312, 0.71581425])"
      ]
     },
     "execution_count": 33,
     "metadata": {},
     "output_type": "execute_result"
    }
   ],
   "source": [
    "emp_moments"
   ]
  },
  {
   "cell_type": "code",
   "execution_count": 36,
   "metadata": {},
   "outputs": [],
   "source": [
    "moments_b = [get_specific_bond_moments(all_bond_moments, n) for n in range(len(hursts))]"
   ]
  },
  {
   "cell_type": "code",
   "execution_count": 38,
   "metadata": {},
   "outputs": [],
   "source": [
    "W_hat = 1.0 / len(hursts) * sum([np.dot(np.array([(mb - emp_moments)]).transpose(), np.array([(mb - emp_moments)])) for mb in moments_b])\n",
    "W = np.linalg.inv(W_hat)"
   ]
  },
  {
   "cell_type": "code",
   "execution_count": 49,
   "metadata": {},
   "outputs": [],
   "source": [
    "np.save('distr_weighting_matrix', W)"
   ]
  },
  {
   "cell_type": "markdown",
   "metadata": {},
   "source": [
    "To start the estimation procedure, I first sample the parameter space using Latin Hypercube sampling"
   ]
  },
  {
   "cell_type": "code",
   "execution_count": 52,
   "metadata": {},
   "outputs": [],
   "source": [
    "population_size = 3\n",
    "\n",
    "problem = {\n",
    "  'num_vars': 7,\n",
    "  'names': ['std_noise', \"w_random\", \"strat_share_chartists\", \n",
    "            \"base_risk_aversion\", \"fundamentalist_horizon_multiplier\",\n",
    "            \"mutation_intensity\", \"average_learning_ability\"],\n",
    "  'bounds': [[0.03, 0.09], [0.02, 0.15], [0.02, 0.3],\n",
    "            [0.05, 3.0], [1.0, 5.0], \n",
    "            [0.05,0.5], [0.01, 0.8]]\n",
    "}"
   ]
  },
  {
   "cell_type": "code",
   "execution_count": 53,
   "metadata": {},
   "outputs": [
    {
     "data": {
      "text/plain": [
       "[0.05789905848770526,\n",
       " 0.05312093723012003,\n",
       " 0.2822482076893787,\n",
       " 2.2460127763420896,\n",
       " 4.664215077300264,\n",
       " 0.17921674504763818,\n",
       " 0.3548645096002974]"
      ]
     },
     "execution_count": 53,
     "metadata": {},
     "output_type": "execute_result"
    }
   ],
   "source": [
    "latin_hyper_cube = latin.sample(problem=problem, N=population_size)\n",
    "latin_hyper_cube = latin_hyper_cube.tolist()\n",
    "with open('hypercube.txt', 'w') as f:\n",
    "    json.dump(latin_hyper_cube, f)\n",
    "initial_params = latin_hyper_cube[0]\n",
    "initial_params"
   ]
  },
  {
   "cell_type": "markdown",
   "metadata": {},
   "source": [
    "## Estimate in py file"
   ]
  },
  {
   "cell_type": "code",
   "execution_count": 55,
   "metadata": {},
   "outputs": [],
   "source": [
    "with open('estimated_params.json', 'r') as f:\n",
    "    est_params = json.loads(f.read())"
   ]
  },
  {
   "cell_type": "code",
   "execution_count": 57,
   "metadata": {},
   "outputs": [],
   "source": [
    "for i, name in enumerate(problem['names']):\n",
    "    params_nb[name] = est_params[i]"
   ]
  },
  {
   "cell_type": "code",
   "execution_count": 58,
   "metadata": {},
   "outputs": [
    {
     "data": {
      "text/plain": [
       "{'fundamental_value': 166,\n",
       " 'trader_sample_size': 22,\n",
       " 'n_traders': 1000,\n",
       " 'ticks': 600,\n",
       " 'std_fundamental': 0.053,\n",
       " 'init_assets': 740,\n",
       " 'spread_max': 0.004,\n",
       " 'money_multiplier': 2.2,\n",
       " 'horizon': 200,\n",
       " 'std_noise': 0.07278259263439237,\n",
       " 'w_random': 0.14923007828230175,\n",
       " 'strat_share_chartists': 0.2312452732431615,\n",
       " 'base_risk_aversion': 1.1684997364091114,\n",
       " 'fundamentalist_horizon_multiplier': 1.6608735823712282,\n",
       " 'trades_per_tick': 1,\n",
       " 'mutation_intensity': 0.3082243423666834,\n",
       " 'average_learning_ability': 0.28994144339194206,\n",
       " 'bond_mean_reversion': 0.0,\n",
       " 'cb_pf_range': 0.05,\n",
       " 'qe_perc_size': 0.16,\n",
       " 'cb_size': 0.02,\n",
       " 'qe_asset_index': 0,\n",
       " 'qe_start': 2,\n",
       " 'qe_end': 598}"
      ]
     },
     "execution_count": 58,
     "metadata": {},
     "output_type": "execute_result"
    }
   ],
   "source": [
    "params_nb"
   ]
  },
  {
   "cell_type": "code",
   "execution_count": 20,
   "metadata": {},
   "outputs": [],
   "source": [
    "# col_autocors = []\n",
    "# col_autocors_abs = []\n",
    "# col_kurts = []\n",
    "# col_hursts = hursts\n",
    "\n",
    "# for col in bondindices:\n",
    "#     rets_mean.append(pd.Series(rets).mean())\n",
    "#     #rets_std.append(pd.Series(rets).std())\n",
    "#     rets_autocor.append(autocorrelation_returns(rets, 25))"
   ]
  },
  {
   "cell_type": "code",
   "execution_count": null,
   "metadata": {},
   "outputs": [],
   "source": []
  }
 ],
 "metadata": {
  "kernelspec": {
   "display_name": "Python 3",
   "language": "python",
   "name": "python3"
  },
  "language_info": {
   "codemirror_mode": {
    "name": "ipython",
    "version": 3
   },
   "file_extension": ".py",
   "mimetype": "text/x-python",
   "name": "python",
   "nbconvert_exporter": "python",
   "pygments_lexer": "ipython3",
   "version": "3.6.8"
  }
 },
 "nbformat": 4,
 "nbformat_minor": 2
}
